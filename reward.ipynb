{
 "cells": [
  {
   "cell_type": "markdown",
   "metadata": {},
   "source": [
    "# REWARD PROGRAM ASSIGNMENT\n",
    "The Rewards Program team is preparing for a major evaluation of how effectively the rewards are driving user engagement and satisfaction. They need insights to help optimise reward offerings, identify key user segments, and understand the overall impact of the reward types on user behaviour. Accurate data analysis is crucial for making data-driven decisions on reward offerings and tailoring them to different user segments.\n",
    "\n",
    "## Task 1: Data Cleaning\n",
    "### Context:\n",
    "As part of our reward efforts, it’s crucial to maintain accurate and clean data. Recently, we discovered challenges in our data, which impacted our ability to allocate points to graduates and learners.\n",
    "\n",
    "### Assignment:\n",
    "I are provided with a sample dataset in the “Mentorship_Sessions” sheet that includes data related to mentorship sessions. This dataset has several duplicates and inconsistencies. My task is to:\n",
    "\n",
    "- Identify and address any missing, incorrect, or inconsistent data within the columns. Ensure that all data is cleaned and standardised for accurate analysis and reporting.\n",
    "- Identify and remove any duplicate records.\n",
    "- Explain my approach to data cleaning, including the tools you used.\n",
    "- Provide a summary of the cleaned data, highlighting the number of duplicates removed and any other anomalies found.\n",
    "\n",
    "Deliverables:\n",
    "- A clean version of the dataset in Excel.\n",
    "- A brief report (300-500 words) detailing my  process, tools used, and findings.\n",
    "\n",
    "________________________________________\n",
    "\n",
    "## Task 2: Legacy Point Allocation\n",
    "\n",
    "### Context:\n",
    "Every week, I will be required to analyse, calculate, and manually award learners and graduates with points based on a set of point criteria.\n",
    "\n",
    "### Assignment:\n",
    "Using my cleaned sample dataset for “Mentorship_Sessions”, allocate points according to the criteria listed below. \n",
    "\n",
    "Mentors earn points as follows:\n",
    "- 250 points for signing up to become a mentor (one-time allocation).\n",
    "- 1000 points for conducting mentorship with 2 different mentees.\n",
    "- The mentor receives 500 points per mentorship relationship, with the points being allocated as follows:\n",
    "     - 250 points per session.\n",
    "     - Must hold two sessions with the same mentee to earn the maximum of 500  points.\n",
    "     - Each session must be a minimum of 30 minutes in length.\n",
    "     - At least one session must include the completion of job information.\n",
    "     - The session must be with the same mentee.\n",
    "\n",
    "### Deliverables:\n",
    "- Compile the main rules that needed to be applied for point allocation.\n",
    "- Create the points allocation calculation to award the mentor points. Provide an explanation of the calculations that you applied to award the mentor points.\n",
    "- A brief report (300-500 words) detailing the point allocation results and providing reasons for the results.\n",
    "- Use the provided data and award the points to mentors.\n",
    "- Provide a step-by-step outline of the process you would follow to complete the allocation, ensuring the points are awarded correctly on the system. This should include your approach to testing and verifying the accuracy of the allocations.\n",
    "\n",
    "________________________________________\n",
    "\n",
    "## Task 3: Deriving Reward Dashboard and Insights\n",
    "\n",
    "### Context:\n",
    "The Rewards Program team is focused on enhancing user engagement and maximising the effectiveness of their reward offerings. To achieve this, they require a detailed analysis of user behaviour and reward redemption patterns based on the most recent data.\n",
    "\n",
    "### Assignment:\n",
    "Using the cleaned data from the previous tasks analyse and create a reward dashboard and provide insights that could be used to optimise the Rewards Program. Your analysis should help identify key user segments (e.g., new users, top performers, low engagement) and suggest how these insights could inform future reward offerings and engagement strategies.\n",
    "\n",
    "### Deliverables:\n",
    "A visual data insights report that includes at least three actionable recommendations based on your analysis (500-700 words).\n",
    "\n"
   ]
  },
  {
   "cell_type": "markdown",
   "metadata": {},
   "source": [
    "## TASK 1: DATA CLEANING"
   ]
  },
  {
   "cell_type": "code",
   "execution_count": 136,
   "metadata": {},
   "outputs": [],
   "source": [
    "#importing necessary packages\n",
    "import pandas as pd\n",
    "import matplotlib.pyplot as plt\n",
    "import seaborn as sns"
   ]
  },
  {
   "cell_type": "code",
   "execution_count": 137,
   "metadata": {},
   "outputs": [
    {
     "data": {
      "text/html": [
       "<div>\n",
       "<style scoped>\n",
       "    .dataframe tbody tr th:only-of-type {\n",
       "        vertical-align: middle;\n",
       "    }\n",
       "\n",
       "    .dataframe tbody tr th {\n",
       "        vertical-align: top;\n",
       "    }\n",
       "\n",
       "    .dataframe thead th {\n",
       "        text-align: right;\n",
       "    }\n",
       "</style>\n",
       "<table border=\"1\" class=\"dataframe\">\n",
       "  <thead>\n",
       "    <tr style=\"text-align: right;\">\n",
       "      <th></th>\n",
       "      <th>Unnamed: 0</th>\n",
       "      <th>Mentor_ID</th>\n",
       "      <th>Mentor_Name</th>\n",
       "      <th>Mentee_Name</th>\n",
       "      <th>Session_Number</th>\n",
       "      <th>Session_Duration_Min</th>\n",
       "      <th>Job_Info_Completed</th>\n",
       "      <th>Session_Date</th>\n",
       "      <th>Points_Awarded</th>\n",
       "    </tr>\n",
       "  </thead>\n",
       "  <tbody>\n",
       "    <tr>\n",
       "      <th>0</th>\n",
       "      <td>2001.0</td>\n",
       "      <td>1003.0</td>\n",
       "      <td>Sarah Clark</td>\n",
       "      <td>Bob Brown</td>\n",
       "      <td>1.0</td>\n",
       "      <td>40.0</td>\n",
       "      <td>Yes</td>\n",
       "      <td>2023-01-01</td>\n",
       "      <td>NaN</td>\n",
       "    </tr>\n",
       "    <tr>\n",
       "      <th>1</th>\n",
       "      <td>2002.0</td>\n",
       "      <td>1003.0</td>\n",
       "      <td>Emily Davis</td>\n",
       "      <td>Carol White</td>\n",
       "      <td>2.0</td>\n",
       "      <td>30.0</td>\n",
       "      <td>Yes</td>\n",
       "      <td>2023-01-08</td>\n",
       "      <td>NaN</td>\n",
       "    </tr>\n",
       "    <tr>\n",
       "      <th>2</th>\n",
       "      <td>2003.0</td>\n",
       "      <td>1005.0</td>\n",
       "      <td>James Wilson</td>\n",
       "      <td>Jane Smith</td>\n",
       "      <td>2.0</td>\n",
       "      <td>40.0</td>\n",
       "      <td>Yes</td>\n",
       "      <td>2023-01-15</td>\n",
       "      <td>NaN</td>\n",
       "    </tr>\n",
       "    <tr>\n",
       "      <th>3</th>\n",
       "      <td>4.0</td>\n",
       "      <td>1005.0</td>\n",
       "      <td>David Thompson</td>\n",
       "      <td>NaN</td>\n",
       "      <td>2.0</td>\n",
       "      <td>50.0</td>\n",
       "      <td>Yes</td>\n",
       "      <td>2023-01-22</td>\n",
       "      <td>NaN</td>\n",
       "    </tr>\n",
       "    <tr>\n",
       "      <th>4</th>\n",
       "      <td>2001.0</td>\n",
       "      <td>1004.0</td>\n",
       "      <td>Emily Davis</td>\n",
       "      <td>Bob Brown</td>\n",
       "      <td>1.0</td>\n",
       "      <td>30.0</td>\n",
       "      <td>No</td>\n",
       "      <td>2023-01-29</td>\n",
       "      <td>NaN</td>\n",
       "    </tr>\n",
       "  </tbody>\n",
       "</table>\n",
       "</div>"
      ],
      "text/plain": [
       "   Unnamed: 0  Mentor_ID     Mentor_Name  Mentee_Name  Session_Number  \\\n",
       "0      2001.0     1003.0     Sarah Clark    Bob Brown             1.0   \n",
       "1      2002.0     1003.0     Emily Davis  Carol White             2.0   \n",
       "2      2003.0     1005.0    James Wilson   Jane Smith             2.0   \n",
       "3         4.0     1005.0  David Thompson          NaN             2.0   \n",
       "4      2001.0     1004.0     Emily Davis    Bob Brown             1.0   \n",
       "\n",
       "   Session_Duration_Min Job_Info_Completed Session_Date  Points_Awarded  \n",
       "0                  40.0                Yes   2023-01-01             NaN  \n",
       "1                  30.0                Yes   2023-01-08             NaN  \n",
       "2                  40.0                Yes   2023-01-15             NaN  \n",
       "3                  50.0                Yes   2023-01-22             NaN  \n",
       "4                  30.0                 No   2023-01-29             NaN  "
      ]
     },
     "execution_count": 137,
     "metadata": {},
     "output_type": "execute_result"
    }
   ],
   "source": [
    "#Loading the dataset\n",
    "file_path = r'C:\\Users\\Georginah\\Data Analytics Projects\\Reward-program\\Dataset\\Reward_Program_Assignment.xlsx'  # Use a raw string for the file path\n",
    "data = pd.read_excel(file_path, sheet_name='Mentorship_Sessions')  # Specify the sheet name separately\n",
    "\n",
    "# Display the first few rows of the dataset\n",
    "data.head(5)\n"
   ]
  },
  {
   "cell_type": "markdown",
   "metadata": {},
   "source": [
    "##### Identifing and addressing any missing, incorrect, or inconsistent data within the columns. Ensure that all data is cleaned and standardised for accurate analysis and reporting."
   ]
  },
  {
   "cell_type": "code",
   "execution_count": 138,
   "metadata": {},
   "outputs": [
    {
     "data": {
      "text/plain": [
       "Unnamed: 0                1\n",
       "Mentor_ID                 1\n",
       "Mentor_Name               0\n",
       "Mentee_Name               2\n",
       "Session_Number            1\n",
       "Session_Duration_Min      2\n",
       "Job_Info_Completed        1\n",
       "Session_Date              1\n",
       "Points_Awarded          109\n",
       "dtype: int64"
      ]
     },
     "execution_count": 138,
     "metadata": {},
     "output_type": "execute_result"
    }
   ],
   "source": [
    "#Checking for missing values\n",
    "data.isna().sum()"
   ]
  },
  {
   "cell_type": "markdown",
   "metadata": {},
   "source": [
    "- There are missing values in all columns apart from yhe mentor name.\n",
    "- I will drop my null values as the number of rows is smaller compared to the entire dataset and the remaining data is sufficient and will provide a reliable basis for my analysis.\n",
    "- The Points_Awarded column is not necessary for my immediate analysis so ill drop it for now.\n",
    "- The unnamed column is not necessary for my analysis, so I will drop it"
   ]
  },
  {
   "cell_type": "code",
   "execution_count": 139,
   "metadata": {},
   "outputs": [
    {
     "data": {
      "text/plain": [
       "np.int64(0)"
      ]
     },
     "execution_count": 139,
     "metadata": {},
     "output_type": "execute_result"
    }
   ],
   "source": [
    "data.duplicated().sum()"
   ]
  },
  {
   "cell_type": "markdown",
   "metadata": {},
   "source": [
    "There are no duplicates in my data"
   ]
  },
  {
   "cell_type": "code",
   "execution_count": 140,
   "metadata": {},
   "outputs": [
    {
     "name": "stdout",
     "output_type": "stream",
     "text": [
      "(109, 9)\n"
     ]
    }
   ],
   "source": [
    "#checking the shape of my data\n",
    "num_rows, num_columns = data.shape \n",
    "print(data.shape)"
   ]
  },
  {
   "cell_type": "code",
   "execution_count": 141,
   "metadata": {},
   "outputs": [
    {
     "name": "stdout",
     "output_type": "stream",
     "text": [
      "Index(['Unnamed: 0', 'Mentor_ID', 'Mentor_Name', 'Mentee_Name',\n",
      "       'Session_Number', 'Session_Duration_Min', 'Job_Info_Completed',\n",
      "       'Session_Date', 'Points_Awarded'],\n",
      "      dtype='object')\n"
     ]
    }
   ],
   "source": [
    "# Display the column names\n",
    "print(data.columns)\n"
   ]
  },
  {
   "cell_type": "code",
   "execution_count": 142,
   "metadata": {},
   "outputs": [],
   "source": [
    "#Data cleaning\n",
    "#dropping the Points_Awarded column\n",
    "data.drop(columns=['Unnamed: 0'], inplace=True)"
   ]
  },
  {
   "cell_type": "code",
   "execution_count": 143,
   "metadata": {},
   "outputs": [
    {
     "data": {
      "text/html": [
       "<div>\n",
       "<style scoped>\n",
       "    .dataframe tbody tr th:only-of-type {\n",
       "        vertical-align: middle;\n",
       "    }\n",
       "\n",
       "    .dataframe tbody tr th {\n",
       "        vertical-align: top;\n",
       "    }\n",
       "\n",
       "    .dataframe thead th {\n",
       "        text-align: right;\n",
       "    }\n",
       "</style>\n",
       "<table border=\"1\" class=\"dataframe\">\n",
       "  <thead>\n",
       "    <tr style=\"text-align: right;\">\n",
       "      <th></th>\n",
       "      <th>Mentor_ID</th>\n",
       "      <th>Mentor_Name</th>\n",
       "      <th>Mentee_Name</th>\n",
       "      <th>Session_Number</th>\n",
       "      <th>Session_Duration_Min</th>\n",
       "      <th>Job_Info_Completed</th>\n",
       "      <th>Session_Date</th>\n",
       "    </tr>\n",
       "  </thead>\n",
       "  <tbody>\n",
       "    <tr>\n",
       "      <th>0</th>\n",
       "      <td>1003.0</td>\n",
       "      <td>Sarah Clark</td>\n",
       "      <td>Bob Brown</td>\n",
       "      <td>1.0</td>\n",
       "      <td>40.0</td>\n",
       "      <td>Yes</td>\n",
       "      <td>2023-01-01</td>\n",
       "    </tr>\n",
       "    <tr>\n",
       "      <th>1</th>\n",
       "      <td>1003.0</td>\n",
       "      <td>Emily Davis</td>\n",
       "      <td>Carol White</td>\n",
       "      <td>2.0</td>\n",
       "      <td>30.0</td>\n",
       "      <td>Yes</td>\n",
       "      <td>2023-01-08</td>\n",
       "    </tr>\n",
       "    <tr>\n",
       "      <th>2</th>\n",
       "      <td>1005.0</td>\n",
       "      <td>James Wilson</td>\n",
       "      <td>Jane Smith</td>\n",
       "      <td>2.0</td>\n",
       "      <td>40.0</td>\n",
       "      <td>Yes</td>\n",
       "      <td>2023-01-15</td>\n",
       "    </tr>\n",
       "    <tr>\n",
       "      <th>3</th>\n",
       "      <td>1005.0</td>\n",
       "      <td>David Thompson</td>\n",
       "      <td>NaN</td>\n",
       "      <td>2.0</td>\n",
       "      <td>50.0</td>\n",
       "      <td>Yes</td>\n",
       "      <td>2023-01-22</td>\n",
       "    </tr>\n",
       "    <tr>\n",
       "      <th>4</th>\n",
       "      <td>1004.0</td>\n",
       "      <td>Emily Davis</td>\n",
       "      <td>Bob Brown</td>\n",
       "      <td>1.0</td>\n",
       "      <td>30.0</td>\n",
       "      <td>No</td>\n",
       "      <td>2023-01-29</td>\n",
       "    </tr>\n",
       "  </tbody>\n",
       "</table>\n",
       "</div>"
      ],
      "text/plain": [
       "   Mentor_ID     Mentor_Name  Mentee_Name  Session_Number  \\\n",
       "0     1003.0     Sarah Clark    Bob Brown             1.0   \n",
       "1     1003.0     Emily Davis  Carol White             2.0   \n",
       "2     1005.0    James Wilson   Jane Smith             2.0   \n",
       "3     1005.0  David Thompson          NaN             2.0   \n",
       "4     1004.0     Emily Davis    Bob Brown             1.0   \n",
       "\n",
       "   Session_Duration_Min Job_Info_Completed Session_Date  \n",
       "0                  40.0                Yes   2023-01-01  \n",
       "1                  30.0                Yes   2023-01-08  \n",
       "2                  40.0                Yes   2023-01-15  \n",
       "3                  50.0                Yes   2023-01-22  \n",
       "4                  30.0                 No   2023-01-29  "
      ]
     },
     "execution_count": 143,
     "metadata": {},
     "output_type": "execute_result"
    }
   ],
   "source": [
    "#dropping the Points_Awarded column\n",
    "data.drop(columns=['Points_Awarded'], inplace=True)\n",
    "data.head(5)"
   ]
  },
  {
   "cell_type": "code",
   "execution_count": 144,
   "metadata": {},
   "outputs": [
    {
     "data": {
      "text/html": [
       "<div>\n",
       "<style scoped>\n",
       "    .dataframe tbody tr th:only-of-type {\n",
       "        vertical-align: middle;\n",
       "    }\n",
       "\n",
       "    .dataframe tbody tr th {\n",
       "        vertical-align: top;\n",
       "    }\n",
       "\n",
       "    .dataframe thead th {\n",
       "        text-align: right;\n",
       "    }\n",
       "</style>\n",
       "<table border=\"1\" class=\"dataframe\">\n",
       "  <thead>\n",
       "    <tr style=\"text-align: right;\">\n",
       "      <th></th>\n",
       "      <th>Mentor_ID</th>\n",
       "      <th>Mentor_Name</th>\n",
       "      <th>Mentee_Name</th>\n",
       "      <th>Session_Number</th>\n",
       "      <th>Session_Duration_Min</th>\n",
       "      <th>Job_Info_Completed</th>\n",
       "      <th>Session_Date</th>\n",
       "    </tr>\n",
       "  </thead>\n",
       "  <tbody>\n",
       "    <tr>\n",
       "      <th>0</th>\n",
       "      <td>1003.0</td>\n",
       "      <td>Sarah Clark</td>\n",
       "      <td>Bob Brown</td>\n",
       "      <td>1.0</td>\n",
       "      <td>40.0</td>\n",
       "      <td>Yes</td>\n",
       "      <td>2023-01-01</td>\n",
       "    </tr>\n",
       "    <tr>\n",
       "      <th>1</th>\n",
       "      <td>1003.0</td>\n",
       "      <td>Emily Davis</td>\n",
       "      <td>Carol White</td>\n",
       "      <td>2.0</td>\n",
       "      <td>30.0</td>\n",
       "      <td>Yes</td>\n",
       "      <td>2023-01-08</td>\n",
       "    </tr>\n",
       "    <tr>\n",
       "      <th>2</th>\n",
       "      <td>1005.0</td>\n",
       "      <td>James Wilson</td>\n",
       "      <td>Jane Smith</td>\n",
       "      <td>2.0</td>\n",
       "      <td>40.0</td>\n",
       "      <td>Yes</td>\n",
       "      <td>2023-01-15</td>\n",
       "    </tr>\n",
       "    <tr>\n",
       "      <th>4</th>\n",
       "      <td>1004.0</td>\n",
       "      <td>Emily Davis</td>\n",
       "      <td>Bob Brown</td>\n",
       "      <td>1.0</td>\n",
       "      <td>30.0</td>\n",
       "      <td>No</td>\n",
       "      <td>2023-01-29</td>\n",
       "    </tr>\n",
       "    <tr>\n",
       "      <th>5</th>\n",
       "      <td>1002.0</td>\n",
       "      <td>David Thompson</td>\n",
       "      <td>Jane Smith</td>\n",
       "      <td>2.0</td>\n",
       "      <td>50.0</td>\n",
       "      <td>No</td>\n",
       "      <td>2023-02-05</td>\n",
       "    </tr>\n",
       "  </tbody>\n",
       "</table>\n",
       "</div>"
      ],
      "text/plain": [
       "   Mentor_ID     Mentor_Name  Mentee_Name  Session_Number  \\\n",
       "0     1003.0     Sarah Clark    Bob Brown             1.0   \n",
       "1     1003.0     Emily Davis  Carol White             2.0   \n",
       "2     1005.0    James Wilson   Jane Smith             2.0   \n",
       "4     1004.0     Emily Davis    Bob Brown             1.0   \n",
       "5     1002.0  David Thompson   Jane Smith             2.0   \n",
       "\n",
       "   Session_Duration_Min Job_Info_Completed Session_Date  \n",
       "0                  40.0                Yes   2023-01-01  \n",
       "1                  30.0                Yes   2023-01-08  \n",
       "2                  40.0                Yes   2023-01-15  \n",
       "4                  30.0                 No   2023-01-29  \n",
       "5                  50.0                 No   2023-02-05  "
      ]
     },
     "execution_count": 144,
     "metadata": {},
     "output_type": "execute_result"
    }
   ],
   "source": [
    "Clean_data = data.dropna()\n",
    "#viewing the cleaned data\n",
    "Clean_data.head()"
   ]
  },
  {
   "cell_type": "code",
   "execution_count": 145,
   "metadata": {},
   "outputs": [
    {
     "name": "stdout",
     "output_type": "stream",
     "text": [
      "(106, 7)\n"
     ]
    }
   ],
   "source": [
    "#checking the sg=hape of my clean data\n",
    "# num_rows, num_columns = Clean_data.shape \n",
    "print(Clean_data.shape)"
   ]
  },
  {
   "cell_type": "code",
   "execution_count": 146,
   "metadata": {},
   "outputs": [
    {
     "data": {
      "text/plain": [
       "Mentor_ID               0\n",
       "Mentor_Name             0\n",
       "Mentee_Name             0\n",
       "Session_Number          0\n",
       "Session_Duration_Min    0\n",
       "Job_Info_Completed      0\n",
       "Session_Date            0\n",
       "dtype: int64"
      ]
     },
     "execution_count": 146,
     "metadata": {},
     "output_type": "execute_result"
    }
   ],
   "source": [
    "#confirming if there are any nulls\n",
    "Clean_data.isna().sum()"
   ]
  },
  {
   "cell_type": "markdown",
   "metadata": {},
   "source": [
    "My data is clean and ready for analysis"
   ]
  },
  {
   "cell_type": "code",
   "execution_count": 147,
   "metadata": {},
   "outputs": [],
   "source": [
    "# Saving my clean data in the Dataset folder\n",
    "Clean_data.to_excel(r'C:\\Users\\Georginah\\Data Analytics Projects\\Reward-program\\Dataset\\Cleaned_data.xlsx', index=False)\n",
    "\n"
   ]
  },
  {
   "cell_type": "markdown",
   "metadata": {},
   "source": [
    "## My approach to Data Cleaning\n",
    "In this project, I focused on cleaning a dataset related to mentorship sessions to ensure accuracy and reliability for subsequent analysis. The dataset was initially provided in Excel format, and I used Python with the Pandas library for the cleaning process. Below are the key steps I followed:\n",
    "\n",
    "#### Loading the Data:\n",
    "\n",
    "- I imported the necessary libraries and loaded the dataset using the Pandas read_excel() function, specifying the file path of the dataset.\n",
    "\n",
    "#### Exploring the Data:\n",
    "\n",
    "- I examined the initial structure of the dataset using the head() method to understand its contents and identify potential issues, such as formats.\n",
    "\n",
    "####  Checking the shape of the data\n",
    "- I used data.shape to identify the number of rows and columns of my data\n",
    "\n",
    "#### Identifying Missing Values:\n",
    "\n",
    "-I used the isna().sum() method to identify missing values across all columns in the dataset. This allowed me to assess which columns required attention.\n",
    "\n",
    "#### Handling Missing Values:\n",
    "\n",
    "- After reviewing the missing values, I made a strategic decision to drop the Points_Awarded column because it did not have any values, and was not necessary for this part of my analysis. This was done to avoid skewing future analyses and facilitate the calculation of points awarded later.\n",
    "- I also deleted the other missing values as the number of rows was smaller compared to the entire dataset and the remaining data was sufficient and would provide a reliable basis for my analysis.\n",
    "\n",
    "\n",
    "#### Removing Duplicates:\n",
    "\n",
    "- I checked for duplicates using the duplicated() method. Upon review, I found no duplicate records in the dataset, which confirmed that the data was unique.\n",
    "Date Format Validation:\n",
    "\n",
    "\n",
    "Summary of Cleaned Data:\n",
    "\n",
    "- Finally, I generated a summary of the cleaned dataset, which now contains columns such as Mentor_ID, Mentor_Name, Mentee_Name, Session_Number, Session_Duration_Min, Unnamed, Job_Info_Completed and Session_Date.\n",
    "- Summary of the Cleaned Data\n",
    "  - Total rows and columns(106,8)\n",
    "   -  Zero nulls and Zero duplicates\n",
    "- The dataset is now prepared for further analysis, ensuring that the remaining data is accurate and ready for the next steps in the project. "
   ]
  },
  {
   "cell_type": "markdown",
   "metadata": {},
   "source": [
    "## Task 2: Legacy Point Allocation"
   ]
  },
  {
   "cell_type": "markdown",
   "metadata": {},
   "source": [
    "### Compilation of  the Main Rules for Point Allocation\n",
    "- One-time Signup Points:\n",
    "Mentors receive 250 points for signing up as a mentor.\n",
    "- Mentorship Points for Different Mentees:\n",
    "Mentors earn 1000 points for conducting mentorship with two different mentees.\n",
    "\n",
    "\n",
    "- Points per Mentorship Relationship:\n",
    "500 points can be earned per mentorship relationship, awarded as follows:\n",
    "#### 250 points per session (for a maximum of two sessions with the same mentee).\n",
    "#### Points can only be earned if:\n",
    "  - Each session is at least 30 minutes long.\n",
    "  - At least one session includes the completion of job information.\n",
    "  - Sessions must be held with the same mentee."
   ]
  },
  {
   "cell_type": "code",
   "execution_count": 148,
   "metadata": {},
   "outputs": [],
   "source": [
    "#Loading the cleaned data\n",
    "cleaned_data = pd.read_excel(r'C:\\Users\\Georginah\\Data Analytics Projects\\Reward-program\\Dataset\\Cleaned_data.xlsx')\n"
   ]
  },
  {
   "cell_type": "code",
   "execution_count": 149,
   "metadata": {},
   "outputs": [],
   "source": [
    "#Adding legacy points column\n",
    "cleaned_data['Legacy_Points'] = 0\n"
   ]
  },
  {
   "cell_type": "code",
   "execution_count": 150,
   "metadata": {},
   "outputs": [
    {
     "data": {
      "text/html": [
       "<div>\n",
       "<style scoped>\n",
       "    .dataframe tbody tr th:only-of-type {\n",
       "        vertical-align: middle;\n",
       "    }\n",
       "\n",
       "    .dataframe tbody tr th {\n",
       "        vertical-align: top;\n",
       "    }\n",
       "\n",
       "    .dataframe thead th {\n",
       "        text-align: right;\n",
       "    }\n",
       "</style>\n",
       "<table border=\"1\" class=\"dataframe\">\n",
       "  <thead>\n",
       "    <tr style=\"text-align: right;\">\n",
       "      <th></th>\n",
       "      <th>Mentor_ID</th>\n",
       "      <th>Mentor_Name</th>\n",
       "      <th>Mentee_Name</th>\n",
       "      <th>Session_Number</th>\n",
       "      <th>Session_Duration_Min</th>\n",
       "      <th>Job_Info_Completed</th>\n",
       "      <th>Session_Date</th>\n",
       "      <th>Legacy_Points</th>\n",
       "    </tr>\n",
       "  </thead>\n",
       "  <tbody>\n",
       "    <tr>\n",
       "      <th>0</th>\n",
       "      <td>1003</td>\n",
       "      <td>Sarah Clark</td>\n",
       "      <td>Bob Brown</td>\n",
       "      <td>1</td>\n",
       "      <td>40</td>\n",
       "      <td>Yes</td>\n",
       "      <td>2023-01-01</td>\n",
       "      <td>0</td>\n",
       "    </tr>\n",
       "    <tr>\n",
       "      <th>1</th>\n",
       "      <td>1003</td>\n",
       "      <td>Emily Davis</td>\n",
       "      <td>Carol White</td>\n",
       "      <td>2</td>\n",
       "      <td>30</td>\n",
       "      <td>Yes</td>\n",
       "      <td>2023-01-08</td>\n",
       "      <td>0</td>\n",
       "    </tr>\n",
       "    <tr>\n",
       "      <th>2</th>\n",
       "      <td>1005</td>\n",
       "      <td>James Wilson</td>\n",
       "      <td>Jane Smith</td>\n",
       "      <td>2</td>\n",
       "      <td>40</td>\n",
       "      <td>Yes</td>\n",
       "      <td>2023-01-15</td>\n",
       "      <td>0</td>\n",
       "    </tr>\n",
       "    <tr>\n",
       "      <th>3</th>\n",
       "      <td>1004</td>\n",
       "      <td>Emily Davis</td>\n",
       "      <td>Bob Brown</td>\n",
       "      <td>1</td>\n",
       "      <td>30</td>\n",
       "      <td>No</td>\n",
       "      <td>2023-01-29</td>\n",
       "      <td>0</td>\n",
       "    </tr>\n",
       "    <tr>\n",
       "      <th>4</th>\n",
       "      <td>1002</td>\n",
       "      <td>David Thompson</td>\n",
       "      <td>Jane Smith</td>\n",
       "      <td>2</td>\n",
       "      <td>50</td>\n",
       "      <td>No</td>\n",
       "      <td>2023-02-05</td>\n",
       "      <td>0</td>\n",
       "    </tr>\n",
       "  </tbody>\n",
       "</table>\n",
       "</div>"
      ],
      "text/plain": [
       "   Mentor_ID     Mentor_Name  Mentee_Name  Session_Number  \\\n",
       "0       1003     Sarah Clark    Bob Brown               1   \n",
       "1       1003     Emily Davis  Carol White               2   \n",
       "2       1005    James Wilson   Jane Smith               2   \n",
       "3       1004     Emily Davis    Bob Brown               1   \n",
       "4       1002  David Thompson   Jane Smith               2   \n",
       "\n",
       "   Session_Duration_Min Job_Info_Completed Session_Date  Legacy_Points  \n",
       "0                    40                Yes   2023-01-01              0  \n",
       "1                    30                Yes   2023-01-08              0  \n",
       "2                    40                Yes   2023-01-15              0  \n",
       "3                    30                 No   2023-01-29              0  \n",
       "4                    50                 No   2023-02-05              0  "
      ]
     },
     "execution_count": 150,
     "metadata": {},
     "output_type": "execute_result"
    }
   ],
   "source": [
    "#Viewing my data\n",
    "cleaned_data.head(5)"
   ]
  },
  {
   "cell_type": "markdown",
   "metadata": {},
   "source": [
    "### Testing and verifying accuracy of allocation"
   ]
  },
  {
   "cell_type": "code",
   "execution_count": 151,
   "metadata": {},
   "outputs": [
    {
     "data": {
      "text/html": [
       "<div>\n",
       "<style scoped>\n",
       "    .dataframe tbody tr th:only-of-type {\n",
       "        vertical-align: middle;\n",
       "    }\n",
       "\n",
       "    .dataframe tbody tr th {\n",
       "        vertical-align: top;\n",
       "    }\n",
       "\n",
       "    .dataframe thead th {\n",
       "        text-align: right;\n",
       "    }\n",
       "</style>\n",
       "<table border=\"1\" class=\"dataframe\">\n",
       "  <thead>\n",
       "    <tr style=\"text-align: right;\">\n",
       "      <th></th>\n",
       "      <th>Mentor_ID</th>\n",
       "      <th>Mentee_Name</th>\n",
       "      <th>Session_Duration_Min</th>\n",
       "      <th>Job_Info_Completed</th>\n",
       "      <th>Legacy_Points</th>\n",
       "    </tr>\n",
       "  </thead>\n",
       "  <tbody>\n",
       "    <tr>\n",
       "      <th>0</th>\n",
       "      <td>1</td>\n",
       "      <td>Mentee_A</td>\n",
       "      <td>40</td>\n",
       "      <td>Yes</td>\n",
       "      <td>0</td>\n",
       "    </tr>\n",
       "    <tr>\n",
       "      <th>1</th>\n",
       "      <td>1</td>\n",
       "      <td>Mentee_A</td>\n",
       "      <td>50</td>\n",
       "      <td>No</td>\n",
       "      <td>0</td>\n",
       "    </tr>\n",
       "    <tr>\n",
       "      <th>2</th>\n",
       "      <td>1</td>\n",
       "      <td>Mentee_B</td>\n",
       "      <td>60</td>\n",
       "      <td>Yes</td>\n",
       "      <td>0</td>\n",
       "    </tr>\n",
       "    <tr>\n",
       "      <th>3</th>\n",
       "      <td>2</td>\n",
       "      <td>Mentee_C</td>\n",
       "      <td>30</td>\n",
       "      <td>No</td>\n",
       "      <td>0</td>\n",
       "    </tr>\n",
       "    <tr>\n",
       "      <th>4</th>\n",
       "      <td>2</td>\n",
       "      <td>Mentee_D</td>\n",
       "      <td>40</td>\n",
       "      <td>Yes</td>\n",
       "      <td>0</td>\n",
       "    </tr>\n",
       "  </tbody>\n",
       "</table>\n",
       "</div>"
      ],
      "text/plain": [
       "   Mentor_ID Mentee_Name  Session_Duration_Min Job_Info_Completed  \\\n",
       "0          1    Mentee_A                    40                Yes   \n",
       "1          1    Mentee_A                    50                 No   \n",
       "2          1    Mentee_B                    60                Yes   \n",
       "3          2    Mentee_C                    30                 No   \n",
       "4          2    Mentee_D                    40                Yes   \n",
       "\n",
       "   Legacy_Points  \n",
       "0              0  \n",
       "1              0  \n",
       "2              0  \n",
       "3              0  \n",
       "4              0  "
      ]
     },
     "execution_count": 151,
     "metadata": {},
     "output_type": "execute_result"
    }
   ],
   "source": [
    "\n",
    "# Creating a mock data for testing\n",
    "mock_data = pd.DataFrame({\n",
    "    'Mentor_ID': [1, 1, 1, 2, 2, 3, 3],\n",
    "    'Mentee_Name': ['Mentee_A', 'Mentee_A', 'Mentee_B', 'Mentee_C', 'Mentee_D', 'Mentee_E', 'Mentee_E'],\n",
    "    'Session_Duration_Min': [40, 50, 60, 30, 40, 20, 30],\n",
    "    'Job_Info_Completed': ['Yes', 'No', 'Yes', 'No', 'Yes', 'Yes', 'Yes']\n",
    "})\n",
    "\n",
    "# Add a column for points\n",
    "mock_data['Legacy_Points'] = 0\n",
    "\n",
    "#Viewing my data\n",
    "mock_data.head()"
   ]
  },
  {
   "cell_type": "code",
   "execution_count": 152,
   "metadata": {},
   "outputs": [
    {
     "name": "stdout",
     "output_type": "stream",
     "text": [
      "   Mentor_ID  Legacy_Points\n",
      "0          1           1750\n",
      "1          1           1750\n",
      "2          1           1750\n",
      "3          2           1250\n",
      "4          2           1250\n",
      "5          3            750\n",
      "6          3            750\n"
     ]
    }
   ],
   "source": [
    "# Iterate over each unique mentor ID\n",
    "for mentor_id in mock_data['Mentor_ID'].unique():\n",
    "    mentor_sessions = mock_data[mock_data['Mentor_ID'] == mentor_id]\n",
    "    Legacy_points = 0  # Initialize points for each mentor\n",
    "    \n",
    "    # One-time signup points\n",
    "    Legacy_points += 250 \n",
    "    \n",
    "    # Check if the mentor has 2 or more unique mentees\n",
    "    mentee_count = mentor_sessions['Mentee_Name'].nunique()\n",
    "    if mentee_count >= 2:\n",
    "        Legacy_points += 1000\n",
    "    \n",
    "    # Calculate points per mentorship relationship\n",
    "    for mentee in mentor_sessions['Mentee_Name'].unique():\n",
    "        mentee_sessions = mentor_sessions[mentor_sessions['Mentee_Name'] == mentee]\n",
    "        \n",
    "        if len(mentee_sessions) >= 2:\n",
    "            # Check session duration and job info completion\n",
    "            valid_sessions = mentee_sessions[\n",
    "                (mentee_sessions['Session_Duration_Min'] >= 30) & \n",
    "                (mentee_sessions['Job_Info_Completed'] == 'Yes')\n",
    "            ]\n",
    "            if len(valid_sessions) > 0:\n",
    "                Legacy_points += 500  # maximum points for that mentee\n",
    "\n",
    "    # Assign the calculated points to all rows for the current mentor\n",
    "    mock_data.loc[mock_data['Mentor_ID'] == mentor_id, 'Legacy_Points'] = Legacy_points\n",
    "\n",
    "# Display the results\n",
    "print(mock_data[['Mentor_ID', 'Legacy_Points']])"
   ]
  },
  {
   "cell_type": "markdown",
   "metadata": {},
   "source": [
    "### Checking for accuracy of mock data\n",
    "- Mentor 1\n",
    "Has two mentees (Mentee_A and Mentee_B), so gets 1000 points for mentoring two mentees.\n",
    "Has two sessions with Mentee_A, both over 30 minutes, but only one completes job info, so gets 500 points.\n",
    "Total = 250 (signup) + 1000 (2 mentees) + 500 (sessions) = 1750 points.\n",
    "\n",
    "\n",
    "- Mentor 2:\n",
    "Has two mentees (Mentee_C and Mentee_D), so gets 1000 points.\n",
    "Mentee_D sessions meet the job info and duration criteria, so gets 500 points.\n",
    "Total = 250 (signup) + 1000 (2 mentees) + 500 (sessions) = 1750 points."
   ]
  },
  {
   "cell_type": "markdown",
   "metadata": {},
   "source": [
    "## Allocating legacy points for my data"
   ]
  },
  {
   "cell_type": "code",
   "execution_count": 153,
   "metadata": {},
   "outputs": [],
   "source": [
    "#iterating over each unique mentor ID in the cleaned dataset\n",
    "for mentor_id in cleaned_data['Mentor_ID'].unique():\n",
    "    #filtering the dataset for sessions related to the current mentor\n",
    "    mentor_sessions = cleaned_data[cleaned_data['Mentor_ID'] == mentor_id]\n",
    "    #initializing the points for the mentor\n",
    "    Legacy_points = 0\n",
    "    \n",
    "    #Awarding one-time signup points for becoming a mentor\n",
    "    Legacy_points += 250 \n",
    "    \n",
    "    #counting the number of unique mentees for the current mentor\n",
    "    mentee_count = mentor_sessions['Mentee_Name'].nunique()\n",
    "    #Awarding extra points if the mentor has worked with atleast two mentees\n",
    "    if mentee_count >= 2:\n",
    "        Legacy_points += 1000\n",
    "    \n",
    "    # Calculate points per mentorship relationship\n",
    "    for mentee in mentor_sessions['Mentee_Name'].unique():\n",
    "        #filtering sessions for the current mentee\n",
    "        mentee_sessions = mentor_sessions[mentor_sessions['Mentee_Name'] == mentee]\n",
    "        #Checking if there are at least two sessions with the same mentee\n",
    "        if len(mentee_sessions) >= 2:\n",
    "            # Check session duration and job info completion\n",
    "            valid_sessions = mentee_sessions[\n",
    "                (mentee_sessions['Session_Duration_Min'] >= 30) & \n",
    "                (mentee_sessions['Job_Info_Completed'] == 'Yes')\n",
    "            ]\n",
    "            #If there are any valid sessions, award the maximum points for that mentee\n",
    "            if len(valid_sessions) > 0:\n",
    "                Legacy_points += 500  # maximum points for that mentee\n",
    "  # Assign total points to the mentor\n",
    "    cleaned_data.loc[cleaned_data['Mentor_ID'] == mentor_id, 'Legacy_Points'] = Legacy_points\n",
    "\n",
    "               "
   ]
  },
  {
   "cell_type": "code",
   "execution_count": 154,
   "metadata": {},
   "outputs": [
    {
     "data": {
      "text/html": [
       "<div>\n",
       "<style scoped>\n",
       "    .dataframe tbody tr th:only-of-type {\n",
       "        vertical-align: middle;\n",
       "    }\n",
       "\n",
       "    .dataframe tbody tr th {\n",
       "        vertical-align: top;\n",
       "    }\n",
       "\n",
       "    .dataframe thead th {\n",
       "        text-align: right;\n",
       "    }\n",
       "</style>\n",
       "<table border=\"1\" class=\"dataframe\">\n",
       "  <thead>\n",
       "    <tr style=\"text-align: right;\">\n",
       "      <th></th>\n",
       "      <th>Mentor_ID</th>\n",
       "      <th>Mentor_Name</th>\n",
       "      <th>Mentee_Name</th>\n",
       "      <th>Session_Number</th>\n",
       "      <th>Session_Duration_Min</th>\n",
       "      <th>Job_Info_Completed</th>\n",
       "      <th>Session_Date</th>\n",
       "      <th>Legacy_Points</th>\n",
       "    </tr>\n",
       "  </thead>\n",
       "  <tbody>\n",
       "    <tr>\n",
       "      <th>0</th>\n",
       "      <td>1003</td>\n",
       "      <td>Sarah Clark</td>\n",
       "      <td>Bob Brown</td>\n",
       "      <td>1</td>\n",
       "      <td>40</td>\n",
       "      <td>Yes</td>\n",
       "      <td>2023-01-01</td>\n",
       "      <td>3750</td>\n",
       "    </tr>\n",
       "    <tr>\n",
       "      <th>1</th>\n",
       "      <td>1003</td>\n",
       "      <td>Emily Davis</td>\n",
       "      <td>Carol White</td>\n",
       "      <td>2</td>\n",
       "      <td>30</td>\n",
       "      <td>Yes</td>\n",
       "      <td>2023-01-08</td>\n",
       "      <td>3750</td>\n",
       "    </tr>\n",
       "    <tr>\n",
       "      <th>2</th>\n",
       "      <td>1005</td>\n",
       "      <td>James Wilson</td>\n",
       "      <td>Jane Smith</td>\n",
       "      <td>2</td>\n",
       "      <td>40</td>\n",
       "      <td>Yes</td>\n",
       "      <td>2023-01-15</td>\n",
       "      <td>2750</td>\n",
       "    </tr>\n",
       "    <tr>\n",
       "      <th>3</th>\n",
       "      <td>1004</td>\n",
       "      <td>Emily Davis</td>\n",
       "      <td>Bob Brown</td>\n",
       "      <td>1</td>\n",
       "      <td>30</td>\n",
       "      <td>No</td>\n",
       "      <td>2023-01-29</td>\n",
       "      <td>3750</td>\n",
       "    </tr>\n",
       "    <tr>\n",
       "      <th>4</th>\n",
       "      <td>1002</td>\n",
       "      <td>David Thompson</td>\n",
       "      <td>Jane Smith</td>\n",
       "      <td>2</td>\n",
       "      <td>50</td>\n",
       "      <td>No</td>\n",
       "      <td>2023-02-05</td>\n",
       "      <td>1750</td>\n",
       "    </tr>\n",
       "    <tr>\n",
       "      <th>5</th>\n",
       "      <td>1002</td>\n",
       "      <td>Michael Lee</td>\n",
       "      <td>Jane Smith</td>\n",
       "      <td>2</td>\n",
       "      <td>50</td>\n",
       "      <td>No</td>\n",
       "      <td>2023-02-05</td>\n",
       "      <td>1750</td>\n",
       "    </tr>\n",
       "    <tr>\n",
       "      <th>6</th>\n",
       "      <td>1004</td>\n",
       "      <td>Sarah Clark</td>\n",
       "      <td>John Doe</td>\n",
       "      <td>2</td>\n",
       "      <td>40</td>\n",
       "      <td>Yes</td>\n",
       "      <td>2023-02-12</td>\n",
       "      <td>3750</td>\n",
       "    </tr>\n",
       "    <tr>\n",
       "      <th>7</th>\n",
       "      <td>1004</td>\n",
       "      <td>Sarah Clark</td>\n",
       "      <td>Carol White</td>\n",
       "      <td>1</td>\n",
       "      <td>30</td>\n",
       "      <td>No</td>\n",
       "      <td>2023-02-26</td>\n",
       "      <td>3750</td>\n",
       "    </tr>\n",
       "    <tr>\n",
       "      <th>8</th>\n",
       "      <td>1002</td>\n",
       "      <td>James Wilson</td>\n",
       "      <td>Carol White</td>\n",
       "      <td>1</td>\n",
       "      <td>40</td>\n",
       "      <td>No</td>\n",
       "      <td>2023-03-05</td>\n",
       "      <td>1750</td>\n",
       "    </tr>\n",
       "    <tr>\n",
       "      <th>9</th>\n",
       "      <td>1003</td>\n",
       "      <td>Sarah Clark</td>\n",
       "      <td>Bob Brown</td>\n",
       "      <td>1</td>\n",
       "      <td>30</td>\n",
       "      <td>Maybe</td>\n",
       "      <td>2023-03-12</td>\n",
       "      <td>3750</td>\n",
       "    </tr>\n",
       "  </tbody>\n",
       "</table>\n",
       "</div>"
      ],
      "text/plain": [
       "   Mentor_ID     Mentor_Name  Mentee_Name  Session_Number  \\\n",
       "0       1003     Sarah Clark    Bob Brown               1   \n",
       "1       1003     Emily Davis  Carol White               2   \n",
       "2       1005    James Wilson   Jane Smith               2   \n",
       "3       1004     Emily Davis    Bob Brown               1   \n",
       "4       1002  David Thompson   Jane Smith               2   \n",
       "5       1002     Michael Lee   Jane Smith               2   \n",
       "6       1004     Sarah Clark     John Doe               2   \n",
       "7       1004     Sarah Clark  Carol White               1   \n",
       "8       1002    James Wilson  Carol White               1   \n",
       "9       1003     Sarah Clark    Bob Brown               1   \n",
       "\n",
       "   Session_Duration_Min Job_Info_Completed Session_Date  Legacy_Points  \n",
       "0                    40                Yes   2023-01-01           3750  \n",
       "1                    30                Yes   2023-01-08           3750  \n",
       "2                    40                Yes   2023-01-15           2750  \n",
       "3                    30                 No   2023-01-29           3750  \n",
       "4                    50                 No   2023-02-05           1750  \n",
       "5                    50                 No   2023-02-05           1750  \n",
       "6                    40                Yes   2023-02-12           3750  \n",
       "7                    30                 No   2023-02-26           3750  \n",
       "8                    40                 No   2023-03-05           1750  \n",
       "9                    30              Maybe   2023-03-12           3750  "
      ]
     },
     "execution_count": 154,
     "metadata": {},
     "output_type": "execute_result"
    }
   ],
   "source": [
    "cleaned_data.head(10)"
   ]
  },
  {
   "cell_type": "markdown",
   "metadata": {},
   "source": [
    "## Task 3: Deriving Reward Dashboard and Insights"
   ]
  },
  {
   "cell_type": "markdown",
   "metadata": {},
   "source": [
    "- I will answer the following questions using visualizations\n",
    "1. Which mentors are top performers based on the legacy points accumulated?\n",
    "2. What is the average session duration across different mentors?\n",
    "3. How does job info completion impact point allocation?\n",
    "4. Who are the top 5 mentors by session frequency?\n",
    "5. What percentage of mentors meet the minimum session duration criteria (30 minutes)?\n",
    "6. Which mentees are being mentored the most frequently?"
   ]
  },
  {
   "cell_type": "markdown",
   "metadata": {},
   "source": [
    "1. Which mentors are top performers based on the legacy points accumulated?"
   ]
  },
  {
   "cell_type": "code",
   "execution_count": 155,
   "metadata": {},
   "outputs": [
    {
     "data": {
      "image/png": "[encoded data removed]",
      "text/plain": [
       "<Figure size 1000x600 with 1 Axes>"
      ]
     },
     "metadata": {},
     "output_type": "display_data"
    }
   ],
   "source": [
    "# Top performing mentors based on points\n",
    "top_mentors = cleaned_data.groupby('Mentor_ID')['Legacy_Points'].sum().sort_values(ascending=False).head(10)\n",
    "\n",
    "# Bar plot of top 10 performing mentors\n",
    "plt.figure(figsize=(10,6))\n",
    "top_mentors.plot(kind='bar', color='skyblue')\n",
    "plt.title('Top 10 Performing Mentors by Legacy Points')\n",
    "plt.xlabel('Mentor ID')\n",
    "plt.ylabel('Legacy_Points')\n",
    "plt.show()\n"
   ]
  },
  {
   "cell_type": "markdown",
   "metadata": {},
   "source": [
    "2. What is the average session duration across different mentors?"
   ]
  },
  {
   "cell_type": "code",
   "execution_count": 156,
   "metadata": {},
   "outputs": [
    {
     "data": {
      "image/png": "[encoded data removed]",
      "text/plain": [
       "<Figure size 1000x600 with 1 Axes>"
      ]
     },
     "metadata": {},
     "output_type": "display_data"
    }
   ],
   "source": [
    "# Calculate average session duration per mentor\n",
    "avg_session_duration = cleaned_data.groupby('Mentor_ID')['Session_Duration_Min'].mean()\n",
    "\n",
    "# Bar plot of average session duration\n",
    "plt.figure(figsize=(10,6))\n",
    "avg_session_duration.plot(kind='bar', color='blue')\n",
    "plt.title('Average Session Duration per Mentor')\n",
    "plt.xlabel('Mentor ID')\n",
    "plt.ylabel('Average Session Duration (Minutes)')\n",
    "plt.show()\n"
   ]
  },
  {
   "cell_type": "markdown",
   "metadata": {},
   "source": [
    "3. How does job info completion impact point allocation?"
   ]
  },
  {
   "cell_type": "code",
   "execution_count": 157,
   "metadata": {},
   "outputs": [
    {
     "data": {
      "image/png": "[encoded data removed]",
      "text/plain": [
       "<Figure size 800x500 with 1 Axes>"
      ]
     },
     "metadata": {},
     "output_type": "display_data"
    }
   ],
   "source": [
    "# Group by job info completion and calculate total points\n",
    "job_info_impact = cleaned_data.groupby('Job_Info_Completed')['Legacy_Points'].sum()\n",
    "\n",
    "# Plot the grouped bar chart\n",
    "plt.figure(figsize=(8,5))\n",
    "job_info_impact.plot(kind='bar', color=['blue', 'orange'])\n",
    "plt.title('Impact of Job Info Completion on Points Allocation')\n",
    "plt.xlabel('Job Info Completed')\n",
    "plt.ylabel('Legacy Points')\n",
    "plt.show()\n"
   ]
  },
  {
   "cell_type": "markdown",
   "metadata": {},
   "source": [
    "4. Who are the top 5 mentors by session frequency?"
   ]
  },
  {
   "cell_type": "code",
   "execution_count": 158,
   "metadata": {},
   "outputs": [
    {
     "data": {
      "image/png": "[encoded data removed]",
      "text/plain": [
       "<Figure size 1000x600 with 1 Axes>"
      ]
     },
     "metadata": {},
     "output_type": "display_data"
    }
   ],
   "source": [
    "# Count the number of sessions per mentor\n",
    "session_count = cleaned_data.groupby('Mentor_ID')['Session_Duration_Min'].count()\n",
    "\n",
    "# Get the top 5 mentors by session frequency\n",
    "top_5_sessions = session_count.nlargest(5)\n",
    "\n",
    "# Plotting the top 5 mentors\n",
    "plt.figure(figsize=(10, 6))\n",
    "top_5_sessions.plot(kind='bar', color='skyblue')\n",
    "plt.title('Top 5 Mentors by Session Frequency')\n",
    "plt.xlabel('Mentor ID')\n",
    "plt.ylabel('Number of Sessions')\n",
    "plt.xticks(rotation=0)\n",
    "plt.show()\n"
   ]
  },
  {
   "cell_type": "markdown",
   "metadata": {},
   "source": [
    "5. What percentage of mentors meet the minimum session duration criteria (30 minutes)?"
   ]
  },
  {
   "cell_type": "code",
   "execution_count": 159,
   "metadata": {},
   "outputs": [
    {
     "data": {
      "image/png": "[encoded data removed]",
      "text/plain": [
       "<Figure size 700x700 with 1 Axes>"
      ]
     },
     "metadata": {},
     "output_type": "display_data"
    }
   ],
   "source": [
    "# Check the number of mentors meeting session duration criteria\n",
    "session_duration_criteria = (cleaned_data['Session_Duration_Min'] >= 30).value_counts()\n",
    "\n",
    "# Pie chart for mentors meeting criteria\n",
    "plt.figure(figsize=(7,7))\n",
    "session_duration_criteria.plot(kind='pie', labels=['Met Criteria', 'Did Not Meet'], autopct='%1.1f%%', startangle=90)\n",
    "plt.title('Percentage of Mentors Meeting Minimum Session Duration (30 mins)')\n",
    "plt.show()\n"
   ]
  },
  {
   "cell_type": "markdown",
   "metadata": {},
   "source": [
    "10.Top 5 most frequently mentored mentees?"
   ]
  },
  {
   "cell_type": "code",
   "execution_count": 160,
   "metadata": {},
   "outputs": [
    {
     "data": {
      "image/png": "[encoded data removed]",
      "text/plain": [
       "<Figure size 1000x600 with 1 Axes>"
      ]
     },
     "metadata": {},
     "output_type": "display_data"
    }
   ],
   "source": [
    "#10\n",
    "# Count number of sessions per mentee\n",
    "mentee_session_count = cleaned_data['Mentee_Name'].value_counts()\n",
    "\n",
    "# Bar chart of most frequently mentored mentees\n",
    "plt.figure(figsize=(10,6))\n",
    "mentee_session_count.head(10).plot(kind='bar', color='cyan')\n",
    "plt.title('Top 5 Most Frequently Mentored Mentees')\n",
    "plt.xlabel('Mentee Name')\n",
    "plt.ylabel('Number of Sessions')\n",
    "plt.show()\n"
   ]
  },
  {
   "cell_type": "markdown",
   "metadata": {},
   "source": [
    "### Observations\n",
    "- Bob Brown is the mentee with most sessions, followed by Carol White\n",
    "- Jogn doe has the least number of sessions\n",
    "- 69.8% of mentors met the 30 minutes criteria for a session while 30.2% did not\n",
    "- Mentors of mentor IDs 1004 and 1005 had the most number of sessions\n",
    "- Mentor of mentor ID 1002 had the least numver of sessions\n",
    "- Job info completion does not affect legacy point allocation, as the values with 'No' as the job info completion have more lagacy points\n"
   ]
  },
  {
   "cell_type": "code",
   "execution_count": 161,
   "metadata": {},
   "outputs": [],
   "source": [
    "# Saving my cleaned data with legacy points in the Dataset folder\n",
    "cleaned_data.to_excel(r'C:\\Users\\Georginah\\Data Analytics Projects\\Reward-program\\Dataset\\Cleaned_legacy_data.xlsx', index=False)"
   ]
  }
 ],
 "metadata": {
  "kernelspec": {
   "display_name": "venv",
   "language": "python",
   "name": "python3"
  },
  "language_info": {
   "codemirror_mode": {
    "name": "ipython",
    "version": 3
   },
   "file_extension": ".py",
   "mimetype": "text/x-python",
   "name": "python",
   "nbconvert_exporter": "python",
   "pygments_lexer": "ipython3",
   "version": "3.11.9"
  }
 },
 "nbformat": 4,
 "nbformat_minor": 2
}
